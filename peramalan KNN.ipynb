{
 "cells": [
  {
   "cell_type": "code",
   "execution_count": 1,
   "metadata": {},
   "outputs": [
    {
     "name": "stdout",
     "output_type": "stream",
     "text": [
      "Package                      Version             \n",
      "---------------------------- --------------------\n",
      "absl-py                      1.4.0               \n",
      "asttokens                    2.2.1               \n",
      "astunparse                   1.6.3               \n",
      "attrs                        19.3.0              \n",
      "Automat                      0.8.0               \n",
      "Babel                        2.6.0               \n",
      "backcall                     0.2.0               \n",
      "blinker                      1.4                 \n",
      "cachetools                   5.3.1               \n",
      "certifi                      2019.11.28          \n",
      "chardet                      3.0.4               \n",
      "Click                        7.0                 \n",
      "cloud-init                   22.3.4              \n",
      "colorama                     0.4.3               \n",
      "comm                         0.1.3               \n",
      "command-not-found            0.3                 \n",
      "configobj                    5.0.6               \n",
      "constantly                   15.1.0              \n",
      "contourpy                    1.0.7               \n",
      "cryptography                 2.8                 \n",
      "cupshelpers                  1.0                 \n",
      "cycler                       0.11.0              \n",
      "dbus-python                  1.2.16              \n",
      "debtcollector                2.0.0               \n",
      "debugpy                      1.6.7               \n",
      "decorator                    5.1.1               \n",
      "defer                        1.0.6               \n",
      "distro                       1.4.0               \n",
      "distro-info                  0.23ubuntu1         \n",
      "docutils                     0.16                \n",
      "entrypoints                  0.3                 \n",
      "executing                    1.2.0               \n",
      "flatbuffers                  23.5.26             \n",
      "fonttools                    4.39.4              \n",
      "gast                         0.4.0               \n",
      "google-auth                  2.19.1              \n",
      "google-auth-oauthlib         1.0.0               \n",
      "google-pasta                 0.2.0               \n",
      "grpcio                       1.54.2              \n",
      "h5py                         3.8.0               \n",
      "httplib2                     0.14.0              \n",
      "hyperlink                    19.0.0              \n",
      "idna                         2.8                 \n",
      "importlib-metadata           6.6.0               \n",
      "importlib-resources          5.12.0              \n",
      "incremental                  16.10.1             \n",
      "ipykernel                    6.23.1              \n",
      "ipython                      8.12.2              \n",
      "iso8601                      0.1.12              \n",
      "jax                          0.4.11              \n",
      "jedi                         0.18.2              \n",
      "Jinja2                       2.10.1              \n",
      "joblib                       1.2.0               \n",
      "jsonpatch                    1.22                \n",
      "jsonpointer                  2.0                 \n",
      "jsonschema                   3.2.0               \n",
      "jupyter-client               8.2.0               \n",
      "jupyter-core                 5.3.0               \n",
      "keras                        2.12.0              \n",
      "keyring                      18.0.1              \n",
      "kiwisolver                   1.4.4               \n",
      "language-selector            0.1                 \n",
      "launchpadlib                 1.10.13             \n",
      "lazr.restfulclient           0.14.2              \n",
      "lazr.uri                     1.0.3               \n",
      "libclang                     16.0.0              \n",
      "macaroonbakery               1.3.1               \n",
      "Markdown                     3.4.3               \n",
      "MarkupSafe                   2.1.3               \n",
      "matplotlib                   3.7.1               \n",
      "matplotlib-inline            0.1.6               \n",
      "ml-dtypes                    0.2.0               \n",
      "monotonic                    1.5                 \n",
      "more-itertools               4.2.0               \n",
      "msgpack                      0.6.2               \n",
      "nest-asyncio                 1.5.6               \n",
      "netaddr                      0.7.19              \n",
      "netifaces                    0.10.4              \n",
      "numpy                        1.23.5              \n",
      "oauthlib                     3.1.0               \n",
      "olefile                      0.46                \n",
      "opt-einsum                   3.3.0               \n",
      "oslo.config                  8.0.2               \n",
      "oslo.context                 3.0.2               \n",
      "oslo.i18n                    4.0.1               \n",
      "oslo.log                     4.1.1               \n",
      "oslo.serialization           3.1.1               \n",
      "oslo.utils                   4.1.1               \n",
      "packaging                    23.1                \n",
      "pandas                       2.0.2               \n",
      "parso                        0.8.3               \n",
      "pbr                          5.4.5               \n",
      "pexpect                      4.6.0               \n",
      "pickleshare                  0.7.5               \n",
      "Pillow                       7.0.0               \n",
      "pip                          20.0.2              \n",
      "platformdirs                 3.5.1               \n",
      "prompt-toolkit               3.0.38              \n",
      "protobuf                     4.23.2              \n",
      "psutil                       5.5.1               \n",
      "pure-eval                    0.2.2               \n",
      "pyasn1                       0.4.2               \n",
      "pyasn1-modules               0.2.1               \n",
      "pycairo                      1.16.2              \n",
      "pycups                       1.9.73              \n",
      "Pygments                     2.15.1              \n",
      "PyGObject                    3.36.0              \n",
      "PyHamcrest                   1.9.0               \n",
      "pyinotify                    0.9.6               \n",
      "PyJWT                        1.7.1               \n",
      "pymacaroons                  0.13.0              \n",
      "PyNaCl                       1.3.0               \n",
      "pyOpenSSL                    19.0.0              \n",
      "pyparsing                    2.4.6               \n",
      "pyRFC3339                    1.1                 \n",
      "pyrsistent                   0.15.5              \n",
      "pyserial                     3.4                 \n",
      "python-apt                   2.0.0+ubuntu0.20.4.8\n",
      "python-dateutil              2.8.2               \n",
      "python-debian                0.1.36ubuntu1       \n",
      "python-novnc                 1.0.0               \n",
      "pytz                         2023.3              \n",
      "pyxdg                        0.26                \n",
      "PyYAML                       5.3.1               \n",
      "pyzmq                        25.1.0              \n",
      "requests                     2.22.0              \n",
      "requests-oauthlib            1.3.1               \n",
      "requests-unixsocket          0.2.0               \n",
      "rfc3986                      1.3.2               \n",
      "roman                        2.0.0               \n",
      "rsa                          4.9                 \n",
      "scikit-learn                 1.2.2               \n",
      "scipy                        1.10.1              \n",
      "SecretStorage                2.3.1               \n",
      "service-identity             18.1.0              \n",
      "setuptools                   45.2.0              \n",
      "simplejson                   3.16.0              \n",
      "six                          1.14.0              \n",
      "sos                          4.3                 \n",
      "ssh-import-id                5.10                \n",
      "stack-data                   0.6.2               \n",
      "stevedore                    1.32.0              \n",
      "systemd-python               234                 \n",
      "tensorboard                  2.12.3              \n",
      "tensorboard-data-server      0.7.0               \n",
      "tensorflow                   2.12.0              \n",
      "tensorflow-estimator         2.12.0              \n",
      "tensorflow-io-gcs-filesystem 0.32.0              \n",
      "termcolor                    2.3.0               \n",
      "threadpoolctl                3.1.0               \n",
      "tornado                      6.3.2               \n",
      "traitlets                    5.9.0               \n",
      "Twisted                      18.9.0              \n",
      "typing-extensions            4.6.3               \n",
      "tzdata                       2023.3              \n",
      "ubuntu-advantage-tools       27.11.2             \n",
      "ufw                          0.36                \n",
      "unattended-upgrades          0.1                 \n",
      "urllib3                      1.25.8              \n",
      "wadllib                      1.3.3               \n",
      "wcwidth                      0.2.6               \n",
      "websockify                   0.9.0               \n",
      "Werkzeug                     2.3.5               \n",
      "wheel                        0.34.2              \n",
      "wrapt                        1.11.2              \n",
      "zipp                         3.15.0              \n",
      "zope.interface               4.7.1               \n",
      "Note: you may need to restart the kernel to use updated packages.\n"
     ]
    }
   ],
   "source": [
    "pip list"
   ]
  },
  {
   "cell_type": "code",
   "execution_count": 2,
   "metadata": {},
   "outputs": [],
   "source": [
    "import pandas as pd\n",
    "import numpy as np "
   ]
  },
  {
   "cell_type": "code",
   "execution_count": 3,
   "metadata": {},
   "outputs": [],
   "source": [
    "df = pd.read_csv(\"/home/ubuntu/workspace/airline-passengers.csv\")"
   ]
  },
  {
   "cell_type": "code",
   "execution_count": 4,
   "metadata": {},
   "outputs": [
    {
     "data": {
      "text/html": [
       "<div>\n",
       "<style scoped>\n",
       "    .dataframe tbody tr th:only-of-type {\n",
       "        vertical-align: middle;\n",
       "    }\n",
       "\n",
       "    .dataframe tbody tr th {\n",
       "        vertical-align: top;\n",
       "    }\n",
       "\n",
       "    .dataframe thead th {\n",
       "        text-align: right;\n",
       "    }\n",
       "</style>\n",
       "<table border=\"1\" class=\"dataframe\">\n",
       "  <thead>\n",
       "    <tr style=\"text-align: right;\">\n",
       "      <th></th>\n",
       "      <th>Month</th>\n",
       "      <th>Passengers</th>\n",
       "    </tr>\n",
       "  </thead>\n",
       "  <tbody>\n",
       "    <tr>\n",
       "      <th>0</th>\n",
       "      <td>1949-01</td>\n",
       "      <td>112</td>\n",
       "    </tr>\n",
       "    <tr>\n",
       "      <th>1</th>\n",
       "      <td>1949-02</td>\n",
       "      <td>118</td>\n",
       "    </tr>\n",
       "    <tr>\n",
       "      <th>2</th>\n",
       "      <td>1949-03</td>\n",
       "      <td>132</td>\n",
       "    </tr>\n",
       "    <tr>\n",
       "      <th>3</th>\n",
       "      <td>1949-04</td>\n",
       "      <td>129</td>\n",
       "    </tr>\n",
       "    <tr>\n",
       "      <th>4</th>\n",
       "      <td>1949-05</td>\n",
       "      <td>121</td>\n",
       "    </tr>\n",
       "    <tr>\n",
       "      <th>...</th>\n",
       "      <td>...</td>\n",
       "      <td>...</td>\n",
       "    </tr>\n",
       "    <tr>\n",
       "      <th>139</th>\n",
       "      <td>1960-08</td>\n",
       "      <td>606</td>\n",
       "    </tr>\n",
       "    <tr>\n",
       "      <th>140</th>\n",
       "      <td>1960-09</td>\n",
       "      <td>508</td>\n",
       "    </tr>\n",
       "    <tr>\n",
       "      <th>141</th>\n",
       "      <td>1960-10</td>\n",
       "      <td>461</td>\n",
       "    </tr>\n",
       "    <tr>\n",
       "      <th>142</th>\n",
       "      <td>1960-11</td>\n",
       "      <td>390</td>\n",
       "    </tr>\n",
       "    <tr>\n",
       "      <th>143</th>\n",
       "      <td>1960-12</td>\n",
       "      <td>432</td>\n",
       "    </tr>\n",
       "  </tbody>\n",
       "</table>\n",
       "<p>144 rows × 2 columns</p>\n",
       "</div>"
      ],
      "text/plain": [
       "       Month  Passengers\n",
       "0    1949-01         112\n",
       "1    1949-02         118\n",
       "2    1949-03         132\n",
       "3    1949-04         129\n",
       "4    1949-05         121\n",
       "..       ...         ...\n",
       "139  1960-08         606\n",
       "140  1960-09         508\n",
       "141  1960-10         461\n",
       "142  1960-11         390\n",
       "143  1960-12         432\n",
       "\n",
       "[144 rows x 2 columns]"
      ]
     },
     "execution_count": 4,
     "metadata": {},
     "output_type": "execute_result"
    }
   ],
   "source": [
    "df"
   ]
  },
  {
   "cell_type": "code",
   "execution_count": 5,
   "metadata": {},
   "outputs": [
    {
     "data": {
      "image/png": "[encoded data removed]",
      "text/plain": [
       "<Figure size 640x480 with 1 Axes>"
      ]
     },
     "metadata": {},
     "output_type": "display_data"
    }
   ],
   "source": [
    "import matplotlib.pyplot as plt\n",
    "df.plot(x=\"Month\", y=\"Passengers\")\n",
    "plt.show()"
   ]
  },
  {
   "attachments": {},
   "cell_type": "markdown",
   "metadata": {},
   "source": [
    "## Prepocessing\n"
   ]
  },
  {
   "cell_type": "code",
   "execution_count": 6,
   "metadata": {},
   "outputs": [
    {
     "name": "stderr",
     "output_type": "stream",
     "text": [
      "2023-06-08 01:59:04.837201: I tensorflow/tsl/cuda/cudart_stub.cc:28] Could not find cuda drivers on your machine, GPU will not be used.\n",
      "2023-06-08 01:59:04.873951: I tensorflow/tsl/cuda/cudart_stub.cc:28] Could not find cuda drivers on your machine, GPU will not be used.\n",
      "2023-06-08 01:59:04.874268: I tensorflow/core/platform/cpu_feature_guard.cc:182] This TensorFlow binary is optimized to use available CPU instructions in performance-critical operations.\n",
      "To enable the following instructions: AVX2 FMA, in other operations, rebuild TensorFlow with the appropriate compiler flags.\n",
      "2023-06-08 01:59:05.465463: W tensorflow/compiler/tf2tensorrt/utils/py_utils.cc:38] TF-TRT Warning: Could not find TensorRT\n"
     ]
    }
   ],
   "source": [
    "import math\n",
    "import matplotlib.pyplot as plt\n",
    "import keras\n",
    "import pandas as pd\n",
    "import numpy as np\n",
    "from keras.models import Sequential\n",
    "from keras.layers import Dense\n",
    "from keras.layers import LSTM\n",
    "from keras.layers import Dropout\n",
    "from keras.layers import *\n",
    "from sklearn.preprocessing import MinMaxScaler\n",
    "from sklearn.metrics import mean_squared_error\n",
    "from sklearn.metrics import mean_absolute_error\n",
    "from sklearn.model_selection import train_test_split\n",
    "from keras.callbacks import EarlyStopping"
   ]
  },
  {
   "cell_type": "code",
   "execution_count": 7,
   "metadata": {},
   "outputs": [],
   "source": [
    "from numpy import array\n",
    "\n",
    "# split a univariate sequence into samples\n",
    "def split_sequence(sequence, n_steps):\n",
    "\tX, y = list(), list()\n",
    "\tfor i in range(len(sequence)):\n",
    "\t\t# find the end of this pattern\n",
    "\t\tend_ix = i + n_steps\n",
    "\t\t# check if we are beyond the sequence\n",
    "\t\tif end_ix > len(sequence)-1:\n",
    "\t\t\tbreak\n",
    "\t\t# gather input and output parts of the pattern\n",
    "\t\tseq_x, seq_y = sequence[i:end_ix], sequence[end_ix]\n",
    "\t\tX.append(seq_x)\n",
    "\t\ty.append(seq_y)\n",
    "\treturn array(X), array(y)"
   ]
  },
  {
   "cell_type": "code",
   "execution_count": 8,
   "metadata": {},
   "outputs": [],
   "source": [
    "\n",
    "training_set = df.iloc[:45, 1:2].values\n",
    "test_set = df.iloc[45:, 1:2].values"
   ]
  },
  {
   "cell_type": "code",
   "execution_count": 9,
   "metadata": {},
   "outputs": [],
   "source": [
    "# Feature Scaling\n",
    "sc = MinMaxScaler(feature_range = (0, 1))\n",
    "training_set_scaled = sc.fit_transform(training_set)\n",
    "# Creating a data structure with 60 time-steps and 1 output\n",
    "X_train = []\n",
    "y_train = []\n",
    "x = 5\n",
    "for i in range(x, 45):\n",
    "    X_train.append(training_set_scaled[i-x:i, 0])\n",
    "    y_train.append(training_set_scaled[i, 0])\n",
    "X_train, y_train = np.array(X_train), np.array(y_train)\n",
    "X_train = np.reshape(X_train, (X_train.shape[0], X_train.shape[1], 1))\n",
    "#(740, 60, 1)"
   ]
  },
  {
   "cell_type": "code",
   "execution_count": 10,
   "metadata": {},
   "outputs": [],
   "source": [
    "\n",
    "xtrainbaru = np.reshape(X_train, (40, 5))"
   ]
  },
  {
   "cell_type": "code",
   "execution_count": 11,
   "metadata": {},
   "outputs": [],
   "source": [
    "## KNN \n",
    "# Mengimpor kelas KNeighborsRegressor dari modul sklearn.neighbors\n",
    "from sklearn.neighbors import KNeighborsRegressor\n",
    "\n",
    "# Membuat objek KNeighborsRegressor dengan parameter n_neighbors=3\n",
    "neigh = KNeighborsRegressor(n_neighbors=3)\n",
    "\n",
    "# Melatih model KNN dengan menggunakan data pelatihan xtrainbaru dan y_train\n",
    "modelknn = neigh.fit(xtrainbaru, y_train)\n",
    "\n"
   ]
  },
  {
   "cell_type": "code",
   "execution_count": 12,
   "metadata": {},
   "outputs": [],
   "source": [
    "\n",
    "# Definisikan dataset_train dan dataset_test\n",
    "dataset_train = df.iloc[:45, 1:2]  # Menggunakan 45 baris pertama sebagai data latihan\n",
    "dataset_test = df.iloc[45:, 1:2]  # Menggunakan baris setelah 45 sebagai data uji\n",
    "\n",
    "# Menggabungkan dataset_train dan dataset_test\n",
    "dataset_total = pd.concat([dataset_train, dataset_test], axis=0)\n",
    "\n",
    "# Mengambil input dari dataset_total\n",
    "inputs = dataset_total[len(dataset_total) - len(dataset_test) - 5:].values"
   ]
  },
  {
   "cell_type": "code",
   "execution_count": 13,
   "metadata": {},
   "outputs": [],
   "source": [
    "inputs = inputs.reshape(-1,1)\n"
   ]
  },
  {
   "cell_type": "code",
   "execution_count": 14,
   "metadata": {},
   "outputs": [
    {
     "name": "stdout",
     "output_type": "stream",
     "text": [
      "(19, 5, 1)\n"
     ]
    }
   ],
   "source": [
    "\n",
    "# Melakukan transformasi skalar pada data inputs\n",
    "inputs = sc.fit_transform(inputs)\n",
    "\n",
    "# Inisialisasi list untuk menyimpan data uji yang telah diolah\n",
    "X_test = []\n",
    "\n",
    "# Mengambil subset data sepanjang 5 nilai sebelumnya\n",
    "for i in range(5, 24):\n",
    "    X_test.append(inputs[i-5:i, 0])\n",
    "\n",
    "# Mengubah list menjadi array NumPy\n",
    "X_test = np.array(X_test)\n",
    "\n",
    "# Mengubah bentuk array X_test menjadi (jumlah_sampel, panjang_waktu, 1)\n",
    "X_test = np.reshape(X_test, (X_test.shape[0], X_test.shape[1], 1))\n",
    "\n",
    "# Menampilkan bentuk dari X_test\n",
    "print(X_test.shape)\n"
   ]
  },
  {
   "cell_type": "code",
   "execution_count": 15,
   "metadata": {},
   "outputs": [],
   "source": [
    "xtestbaru = np.reshape(X_test, (19, 5))\n"
   ]
  },
  {
   "cell_type": "code",
   "execution_count": 16,
   "metadata": {},
   "outputs": [],
   "source": [
    "# Melakukan prediksi pada data xtestbaru menggunakan model KNN\n",
    "predicted_pakan = modelknn.predict(xtestbaru)\n",
    "\n",
    "# Mengubah bentuk prediksi menjadi bentuk awal\n",
    "predicted_pakan = predicted_pakan.reshape(-1, 1)\n",
    "\n",
    "# Mengembalikan prediksi ke skala aslinya\n",
    "prediksi = sc.inverse_transform(predicted_pakan)\n",
    "\n",
    "# Membatasi dataset_test menjadi 19 baris\n",
    "dataset_test = dataset_test.iloc[0:19]\n"
   ]
  },
  {
   "cell_type": "code",
   "execution_count": 17,
   "metadata": {},
   "outputs": [
    {
     "name": "stdout",
     "output_type": "stream",
     "text": [
      "Mean Absolute Percentage Error (MAPE): 0.2788677691833967\n"
     ]
    }
   ],
   "source": [
    "from sklearn.metrics import mean_absolute_percentage_error\n",
    "\n",
    "# Hitung MAPE antara dataset_test dan prediksi\n",
    "mape = mean_absolute_percentage_error(dataset_test, prediksi)\n",
    "\n",
    "# Tampilkan hasil MAPE\n",
    "print(\"Mean Absolute Percentage Error (MAPE):\", mape)"
   ]
  },
  {
   "cell_type": "code",
   "execution_count": 18,
   "metadata": {},
   "outputs": [],
   "source": [
    "# Mengubah dataset_test menjadi array NumPy\n",
    "dataset_test = dataset_test.to_numpy()"
   ]
  },
  {
   "cell_type": "code",
   "execution_count": 19,
   "metadata": {},
   "outputs": [
    {
     "data": {
      "image/png": "[encoded data removed]",
      "text/plain": [
       "<Figure size 640x480 with 1 Axes>"
      ]
     },
     "metadata": {},
     "output_type": "display_data"
    }
   ],
   "source": [
    "# Menampilkan plot data aktual (dataset_test) dan prediksi (prediksi)\n",
    "plt.plot(dataset_test, label='Penumpang real')\n",
    "plt.plot(prediksi, label='Penumpang prediksi')\n",
    "\n",
    "# Menentukan lokasi sumbu x yang ditampilkan\n",
    "plt.xticks(np.arange(0, 19, 1))\n",
    "\n",
    "# Menambahkan judul plot\n",
    "plt.title('Prediksi Penumpang')\n",
    "\n",
    "# Menambahkan label sumbu x dan y\n",
    "plt.xlabel('Month')\n",
    "plt.ylabel('Passengers')\n",
    "\n",
    "# Menampilkan legenda pada plot\n",
    "plt.legend()\n",
    "\n",
    "# Menampilkan plot\n",
    "plt.show()"
   ]
  }
 ],
 "metadata": {
  "language_info": {
   "name": "python"
  },
  "orig_nbformat": 4
 },
 "nbformat": 4,
 "nbformat_minor": 2
}
